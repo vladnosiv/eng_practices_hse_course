{
  "nbformat": 4,
  "nbformat_minor": 0,
  "metadata": {
    "language_info": {
      "pygments_lexer": "ipython3",
      "mimetype": "text/x-python",
      "name": "python",
      "codemirror_mode": {
        "version": 3,
        "name": "ipython"
      },
      "nbconvert_exporter": "python",
      "version": "3.7.7",
      "file_extension": ".py"
    },
    "notebookId": "e3e10686-5411-4b13-add3-83f3b99844d7",
    "kernelspec": {
      "name": "python3",
      "description": "IPython kernel implementation for Yandex DataSphere",
      "spec": {
        "language": "python",
        "display_name": "Yandex DataSphere Kernel",
        "codemirror_mode": "python",
        "argv": [
          "/bin/true"
        ],
        "env": {},
        "help_links": []
      },
      "resources": {},
      "display_name": "Yandex DataSphere Kernel"
    },
    "ydsNotebookPath": "Homeworks/hw05_task.ipynb",
    "colab": {
      "provenance": []
    },
    "accelerator": "GPU",
    "widgets": {
      "application/vnd.jupyter.widget-state+json": {
        "501c3791eacc4d37bf2fe4fc2fb74772": {
          "model_module": "@jupyter-widgets/controls",
          "model_name": "HBoxModel",
          "model_module_version": "1.5.0",
          "state": {
            "_view_name": "HBoxView",
            "_dom_classes": [],
            "_model_name": "HBoxModel",
            "_view_module": "@jupyter-widgets/controls",
            "_model_module_version": "1.5.0",
            "_view_count": null,
            "_view_module_version": "1.5.0",
            "box_style": "",
            "layout": "IPY_MODEL_2505bbf1000f48d0807cbb34354acc28",
            "_model_module": "@jupyter-widgets/controls",
            "children": [
              "IPY_MODEL_bc53365c3c2d44f98e7c2a3378b24e2d",
              "IPY_MODEL_f61a2dd60b52468bbc87f315daa6e874",
              "IPY_MODEL_2679d2bb64024da9bb0046d11ab1454f"
            ]
          }
        },
        "2505bbf1000f48d0807cbb34354acc28": {
          "model_module": "@jupyter-widgets/base",
          "model_name": "LayoutModel",
          "model_module_version": "1.2.0",
          "state": {
            "_view_name": "LayoutView",
            "grid_template_rows": null,
            "right": null,
            "justify_content": null,
            "_view_module": "@jupyter-widgets/base",
            "overflow": null,
            "_model_module_version": "1.2.0",
            "_view_count": null,
            "flex_flow": null,
            "width": null,
            "min_width": null,
            "border": null,
            "align_items": null,
            "bottom": null,
            "_model_module": "@jupyter-widgets/base",
            "top": null,
            "grid_column": null,
            "overflow_y": null,
            "overflow_x": null,
            "grid_auto_flow": null,
            "grid_area": null,
            "grid_template_columns": null,
            "flex": null,
            "_model_name": "LayoutModel",
            "justify_items": null,
            "grid_row": null,
            "max_height": null,
            "align_content": null,
            "visibility": null,
            "align_self": null,
            "height": null,
            "min_height": null,
            "padding": null,
            "grid_auto_rows": null,
            "grid_gap": null,
            "max_width": null,
            "order": null,
            "_view_module_version": "1.2.0",
            "grid_template_areas": null,
            "object_position": null,
            "object_fit": null,
            "grid_auto_columns": null,
            "margin": null,
            "display": null,
            "left": null
          }
        },
        "bc53365c3c2d44f98e7c2a3378b24e2d": {
          "model_module": "@jupyter-widgets/controls",
          "model_name": "HTMLModel",
          "model_module_version": "1.5.0",
          "state": {
            "_view_name": "HTMLView",
            "style": "IPY_MODEL_4fb8e7bcc090442b8290b69d4c571706",
            "_dom_classes": [],
            "description": "",
            "_model_name": "HTMLModel",
            "placeholder": "​",
            "_view_module": "@jupyter-widgets/controls",
            "_model_module_version": "1.5.0",
            "value": "",
            "_view_count": null,
            "_view_module_version": "1.5.0",
            "description_tooltip": null,
            "_model_module": "@jupyter-widgets/controls",
            "layout": "IPY_MODEL_4aadd420c9524d08a22f71a796b7e9a7"
          }
        },
        "f61a2dd60b52468bbc87f315daa6e874": {
          "model_module": "@jupyter-widgets/controls",
          "model_name": "FloatProgressModel",
          "model_module_version": "1.5.0",
          "state": {
            "_view_name": "ProgressView",
            "style": "IPY_MODEL_e7f76f43df364d2aadbf043462f0673b",
            "_dom_classes": [],
            "description": "",
            "_model_name": "FloatProgressModel",
            "bar_style": "success",
            "max": 170498071,
            "_view_module": "@jupyter-widgets/controls",
            "_model_module_version": "1.5.0",
            "value": 170498071,
            "_view_count": null,
            "_view_module_version": "1.5.0",
            "orientation": "horizontal",
            "min": 0,
            "description_tooltip": null,
            "_model_module": "@jupyter-widgets/controls",
            "layout": "IPY_MODEL_62ee933ba80a46f1bb9883e969d0cea8"
          }
        },
        "2679d2bb64024da9bb0046d11ab1454f": {
          "model_module": "@jupyter-widgets/controls",
          "model_name": "HTMLModel",
          "model_module_version": "1.5.0",
          "state": {
            "_view_name": "HTMLView",
            "style": "IPY_MODEL_c13e7af22d8f41e493603bc9977c3302",
            "_dom_classes": [],
            "description": "",
            "_model_name": "HTMLModel",
            "placeholder": "​",
            "_view_module": "@jupyter-widgets/controls",
            "_model_module_version": "1.5.0",
            "value": " 170499072/? [00:06&lt;00:00, 31886417.58it/s]",
            "_view_count": null,
            "_view_module_version": "1.5.0",
            "description_tooltip": null,
            "_model_module": "@jupyter-widgets/controls",
            "layout": "IPY_MODEL_8bcc2ee2660b4fabb67fa92d47fa0904"
          }
        },
        "4fb8e7bcc090442b8290b69d4c571706": {
          "model_module": "@jupyter-widgets/controls",
          "model_name": "DescriptionStyleModel",
          "model_module_version": "1.5.0",
          "state": {
            "_view_name": "StyleView",
            "_model_name": "DescriptionStyleModel",
            "description_width": "",
            "_view_module": "@jupyter-widgets/base",
            "_model_module_version": "1.5.0",
            "_view_count": null,
            "_view_module_version": "1.2.0",
            "_model_module": "@jupyter-widgets/controls"
          }
        },
        "4aadd420c9524d08a22f71a796b7e9a7": {
          "model_module": "@jupyter-widgets/base",
          "model_name": "LayoutModel",
          "model_module_version": "1.2.0",
          "state": {
            "_view_name": "LayoutView",
            "grid_template_rows": null,
            "right": null,
            "justify_content": null,
            "_view_module": "@jupyter-widgets/base",
            "overflow": null,
            "_model_module_version": "1.2.0",
            "_view_count": null,
            "flex_flow": null,
            "width": null,
            "min_width": null,
            "border": null,
            "align_items": null,
            "bottom": null,
            "_model_module": "@jupyter-widgets/base",
            "top": null,
            "grid_column": null,
            "overflow_y": null,
            "overflow_x": null,
            "grid_auto_flow": null,
            "grid_area": null,
            "grid_template_columns": null,
            "flex": null,
            "_model_name": "LayoutModel",
            "justify_items": null,
            "grid_row": null,
            "max_height": null,
            "align_content": null,
            "visibility": null,
            "align_self": null,
            "height": null,
            "min_height": null,
            "padding": null,
            "grid_auto_rows": null,
            "grid_gap": null,
            "max_width": null,
            "order": null,
            "_view_module_version": "1.2.0",
            "grid_template_areas": null,
            "object_position": null,
            "object_fit": null,
            "grid_auto_columns": null,
            "margin": null,
            "display": null,
            "left": null
          }
        },
        "e7f76f43df364d2aadbf043462f0673b": {
          "model_module": "@jupyter-widgets/controls",
          "model_name": "ProgressStyleModel",
          "model_module_version": "1.5.0",
          "state": {
            "_view_name": "StyleView",
            "_model_name": "ProgressStyleModel",
            "description_width": "",
            "_view_module": "@jupyter-widgets/base",
            "_model_module_version": "1.5.0",
            "_view_count": null,
            "_view_module_version": "1.2.0",
            "bar_color": null,
            "_model_module": "@jupyter-widgets/controls"
          }
        },
        "62ee933ba80a46f1bb9883e969d0cea8": {
          "model_module": "@jupyter-widgets/base",
          "model_name": "LayoutModel",
          "model_module_version": "1.2.0",
          "state": {
            "_view_name": "LayoutView",
            "grid_template_rows": null,
            "right": null,
            "justify_content": null,
            "_view_module": "@jupyter-widgets/base",
            "overflow": null,
            "_model_module_version": "1.2.0",
            "_view_count": null,
            "flex_flow": null,
            "width": null,
            "min_width": null,
            "border": null,
            "align_items": null,
            "bottom": null,
            "_model_module": "@jupyter-widgets/base",
            "top": null,
            "grid_column": null,
            "overflow_y": null,
            "overflow_x": null,
            "grid_auto_flow": null,
            "grid_area": null,
            "grid_template_columns": null,
            "flex": null,
            "_model_name": "LayoutModel",
            "justify_items": null,
            "grid_row": null,
            "max_height": null,
            "align_content": null,
            "visibility": null,
            "align_self": null,
            "height": null,
            "min_height": null,
            "padding": null,
            "grid_auto_rows": null,
            "grid_gap": null,
            "max_width": null,
            "order": null,
            "_view_module_version": "1.2.0",
            "grid_template_areas": null,
            "object_position": null,
            "object_fit": null,
            "grid_auto_columns": null,
            "margin": null,
            "display": null,
            "left": null
          }
        },
        "c13e7af22d8f41e493603bc9977c3302": {
          "model_module": "@jupyter-widgets/controls",
          "model_name": "DescriptionStyleModel",
          "model_module_version": "1.5.0",
          "state": {
            "_view_name": "StyleView",
            "_model_name": "DescriptionStyleModel",
            "description_width": "",
            "_view_module": "@jupyter-widgets/base",
            "_model_module_version": "1.5.0",
            "_view_count": null,
            "_view_module_version": "1.2.0",
            "_model_module": "@jupyter-widgets/controls"
          }
        },
        "8bcc2ee2660b4fabb67fa92d47fa0904": {
          "model_module": "@jupyter-widgets/base",
          "model_name": "LayoutModel",
          "model_module_version": "1.2.0",
          "state": {
            "_view_name": "LayoutView",
            "grid_template_rows": null,
            "right": null,
            "justify_content": null,
            "_view_module": "@jupyter-widgets/base",
            "overflow": null,
            "_model_module_version": "1.2.0",
            "_view_count": null,
            "flex_flow": null,
            "width": null,
            "min_width": null,
            "border": null,
            "align_items": null,
            "bottom": null,
            "_model_module": "@jupyter-widgets/base",
            "top": null,
            "grid_column": null,
            "overflow_y": null,
            "overflow_x": null,
            "grid_auto_flow": null,
            "grid_area": null,
            "grid_template_columns": null,
            "flex": null,
            "_model_name": "LayoutModel",
            "justify_items": null,
            "grid_row": null,
            "max_height": null,
            "align_content": null,
            "visibility": null,
            "align_self": null,
            "height": null,
            "min_height": null,
            "padding": null,
            "grid_auto_rows": null,
            "grid_gap": null,
            "max_width": null,
            "order": null,
            "_view_module_version": "1.2.0",
            "grid_template_areas": null,
            "object_position": null,
            "object_fit": null,
            "grid_auto_columns": null,
            "margin": null,
            "display": null,
            "left": null
          }
        }
      }
    }
  },
  "cells": [
    {
      "cell_type": "markdown",
      "metadata": {
        "cellId": "29e0fe5e-f462-4b84-b212-b817e9c5d20f",
        "id": "9Qp0H_zUQuu_"
      },
      "source": [
        "# Нейронные сети\n",
        "__Суммарное количество баллов: 10__\n",
        "\n",
        "__Решение отправлять на `ml.course.practice@gmail.com`__\n",
        "\n",
        "__Тема письма: `[HSE][ML][HW05] <ФИ>`, где вместо `<ФИ>` указаны фамилия и имя__\n",
        "\n",
        "Для начала вам предстоит реализовать свой собственный backpropagation и протестировать его на реальных данных, а затем научиться обучать нейронные сети при помощи библиотеки `PyTorch` и использовать это умение для классификации классического набора данных CIFAR10."
      ]
    },
    {
      "cell_type": "code",
      "metadata": {
        "id": "22ezVRf3QuvA",
        "cellId": "3550697f-1278-496d-be69-eccbcfb056c2",
        "trusted": true
      },
      "source": [
        "import numpy as np\n",
        "import copy\n",
        "from sklearn.datasets import make_blobs, make_moons\n",
        "from typing import List, NoReturn"
      ],
      "execution_count": null,
      "outputs": []
    },
    {
      "cell_type": "markdown",
      "metadata": {
        "cellId": "118e3176-f7f3-4a52-86b9-730b12ac3df9",
        "id": "4qfDPH_LQuvF"
      },
      "source": [
        "### Задание 1 (3 балла)\n",
        "Нейронные сети состоят из слоев, поэтому для начала понадобится реализовать их. Пока нам понадобятся только три:\n",
        "\n",
        "`Linear` - полносвязный слой, в котором `y = Wx + b`, где `y` - выход, `x` - вход, `W` - матрица весов, а `b` - смещение. \n",
        "\n",
        "`ReLU` - слой, соответствующий функции активации `y = max(0, x)`.\n",
        "\n",
        "`Softmax` - слой, соответствующий функции активации [softmax](https://ru.wikipedia.org/wiki/Softmax)\n",
        "\n",
        "\n",
        "#### Методы\n",
        "`forward(X)` - возвращает предсказанные для `X`. `X` может быть как вектором, так и батчем\n",
        "\n",
        "`backward(d)` - считает градиент при помощи обратного распространения ошибки. Возвращает новое значение `d`\n",
        "\n",
        "`update(alpha)` - обновляет веса (если необходимо) с заданой скоростью обучения"
      ]
    },
    {
      "cell_type": "code",
      "metadata": {
        "id": "RWFLlHqaYbgC",
        "cellId": "9f1e3d9c-38a9-4920-8318-5651034d53f3",
        "trusted": true
      },
      "source": [
        "class Module:\n",
        "    \"\"\"\n",
        "    Абстрактный класс. Его менять не нужно.\n",
        "    \"\"\"\n",
        "    def forward(self, x):\n",
        "        raise NotImplementedError()\n",
        "    \n",
        "    def backward(self, d):\n",
        "        raise NotImplementedError()\n",
        "        \n",
        "    def update(self, alpha):\n",
        "        pass"
      ],
      "execution_count": null,
      "outputs": []
    },
    {
      "cell_type": "code",
      "metadata": {
        "id": "aYS2gE4PYepZ",
        "cellId": "d01ad81c-5bac-40e6-961a-970989b5a1ca",
        "trusted": true
      },
      "source": [
        "class Linear(Module):\n",
        "    \"\"\"\n",
        "    Линейный полносвязный слой.\n",
        "    \"\"\"\n",
        "    def __init__(self, in_features: int, out_features: int):\n",
        "        \"\"\"\n",
        "        Parameters\n",
        "        ----------\n",
        "        in_features : int\n",
        "            Размер входа.\n",
        "        out_features : int \n",
        "            Размер выхода.\n",
        "    \n",
        "        Notes\n",
        "        -----\n",
        "        W и b инициализируются случайно.\n",
        "        \"\"\"\n",
        "        self.in_features = in_features\n",
        "        self.out_features = out_features\n",
        "        \n",
        "        k = 1 / in_features\n",
        "        self.W = np.random.normal(loc=0, scale=np.sqrt(k), size=(in_features + 1, out_features))\n",
        "        \n",
        "        self.x_previous = None\n",
        "        self.delta = None\n",
        "    \n",
        "    def forward(self, x: np.ndarray) -> np.ndarray:\n",
        "        \"\"\"\n",
        "        Возвращает y = Wx + b.\n",
        "\n",
        "        Parameters\n",
        "        ----------\n",
        "        x : np.ndarray\n",
        "            Входной вектор или батч.\n",
        "            То есть, либо x вектор с in_features элементов,\n",
        "            либо матрица размерности (batch_size, in_features).\n",
        "    \n",
        "        Return\n",
        "        ------\n",
        "        y : np.ndarray\n",
        "            Выход после слоя.\n",
        "            Либо вектор с out_features элементами,\n",
        "            либо матрица размерности (batch_size, out_features)\n",
        "\n",
        "        \"\"\"\n",
        "        self.x_previous = np.c_[np.ones(x.shape[0]), x]\n",
        "        return self.x_previous @ self.W\n",
        "    \n",
        "    def backward(self, d: np.ndarray) -> np.ndarray:\n",
        "        \"\"\"\n",
        "        Cчитает градиент при помощи обратного распространения ошибки.\n",
        "\n",
        "        Parameters\n",
        "        ----------\n",
        "        d : np.ndarray\n",
        "            Градиент.\n",
        "        Return\n",
        "        ------\n",
        "        np.ndarray\n",
        "            Новое значение градиента.\n",
        "        \"\"\"\n",
        "        self.delta = d\n",
        "        return np.delete(d @ self.W.T, 0, 1)\n",
        "        \n",
        "    def update(self, alpha: float) -> NoReturn:\n",
        "        \"\"\"\n",
        "        Обновляет W и b с заданной скоростью обучения.\n",
        "\n",
        "        Parameters\n",
        "        ----------\n",
        "        alpha : float\n",
        "            Скорость обучения.\n",
        "        \"\"\"\n",
        "        self.W -= alpha * self.x_previous.T @ self.delta"
      ],
      "execution_count": null,
      "outputs": []
    },
    {
      "cell_type": "code",
      "metadata": {
        "id": "94hkbnD1QuvG",
        "cellId": "eb36bac2-ddf3-4dda-870d-0f8b55374508",
        "trusted": true
      },
      "source": [
        "class ReLU(Module):\n",
        "    \"\"\"\n",
        "    Слой, соответствующий функции активации ReLU.\n",
        "    \"\"\"\n",
        "    def __init__(self):\n",
        "        self.d_y = None\n",
        "    \n",
        "    def forward(self, x: np.ndarray) -> np.ndarray:\n",
        "        \"\"\"\n",
        "        Возвращает y = max(0, x).\n",
        "\n",
        "        Parameters\n",
        "        ----------\n",
        "        x : np.ndarray\n",
        "            Входной вектор или батч.\n",
        "    \n",
        "        Return\n",
        "        ------\n",
        "        y : np.ndarray\n",
        "            Выход после слоя (той же размерности, что и вход).\n",
        "\n",
        "        \"\"\"\n",
        "        self.x = copy.deepcopy(x)\n",
        "        return np.where(x > 0, x, 0)\n",
        "        \n",
        "    def backward(self, d) -> np.ndarray:\n",
        "        \"\"\"\n",
        "        Cчитает градиент при помощи обратного распространения ошибки.\n",
        "\n",
        "        Parameters\n",
        "        ----------\n",
        "        d : np.ndarray\n",
        "            Градиент.\n",
        "        Return\n",
        "        ------\n",
        "        np.ndarray\n",
        "            Новое значение градиента.\n",
        "        \"\"\"\n",
        "        return d * (self.x >= 0)\n",
        "        \n",
        "        \n",
        "class Softmax(Module):\n",
        "    \"\"\"\n",
        "    Слой, соответствующий функции активации Softmax.\n",
        "    \"\"\"\n",
        "    def __init__(self):\n",
        "        self.d_y = None\n",
        "        \n",
        "    def forward(self, x: np.ndarray) -> np.ndarray:\n",
        "        \"\"\"\n",
        "        Возвращает y = Softmax(x).\n",
        "\n",
        "        Parameters\n",
        "        ----------\n",
        "        x : np.ndarray\n",
        "            Входной вектор или батч.\n",
        "    \n",
        "        Return\n",
        "        ------\n",
        "        y : np.ndarray\n",
        "            Выход после слоя (той же размерности, что и вход).\n",
        "\n",
        "        \"\"\"\n",
        "        self.x = x\n",
        "        return np.array([np.exp(x[i]) / np.sum(np.exp(x[i]) for i in range(x.shape[0]))])\n",
        "        \n",
        "    def backward(self, d) -> np.ndarray:\n",
        "        \"\"\"\n",
        "        Cчитает градиент при помощи обратного распространения ошибки.\n",
        "\n",
        "        Parameters\n",
        "        ----------\n",
        "        d : np.ndarray\n",
        "            Градиент.\n",
        "        Return\n",
        "        ------\n",
        "        np.ndarray\n",
        "            Новое значение градиента.\n",
        "        \"\"\"\n",
        "        return np.array([-d[i] + np.exp(self.x[i]) / np.sum(np.exp(self.x[i])) for i in range(d.shape[0])])"
      ],
      "execution_count": null,
      "outputs": []
    },
    {
      "cell_type": "markdown",
      "metadata": {
        "cellId": "17d2556a-080a-4668-a3d5-7a6afde88463",
        "id": "Rb_ip_h8QuvJ"
      },
      "source": [
        "### Задание 2 (2 балла)\n",
        "Теперь сделаем саму нейронную сеть.\n",
        "\n",
        "#### Методы\n",
        "`fit(X, y)` - обучает нейронную сеть заданное число эпох. В каждой эпохе необходимо использовать [cross-entropy loss](https://ml-cheatsheet.readthedocs.io/en/latest/loss_functions.html#cross-entropy) для обучения, а так же производить обновления не по одному элементу, а используя батчи.\n",
        "\n",
        "`predict_proba(X)` - предсказывает вероятности классов для элементов `X`\n",
        "\n",
        "#### Параметры конструктора\n",
        "`modules` - список, состоящий из ранее реализованных модулей и описывающий слои нейронной сети. В конец необходимо добавить `Softmax`\n",
        "\n",
        "`epochs` - количество эпох обучения\n",
        "\n",
        "`alpha` - скорость обучения"
      ]
    },
    {
      "cell_type": "code",
      "metadata": {
        "id": "Q_JFCizKQuvK",
        "cellId": "ad5311af-2e4b-4a91-b7f9-68818793dbc5",
        "trusted": true
      },
      "source": [
        "def one_hot_encode(y, classes):\n",
        "    res = np.zeros(shape=(y.shape[0], classes))\n",
        "    for i in range(y.shape[0]):\n",
        "        res[i][y[i]] = 1\n",
        "    return res\n",
        "\n",
        "class MLPClassifier:\n",
        "    def __init__(self, modules: List[Module], epochs: int = 40, alpha: float = 0.01):\n",
        "        \"\"\"\n",
        "        Parameters\n",
        "        ----------\n",
        "        modules : List[Module]\n",
        "            Cписок, состоящий из ранее реализованных модулей и \n",
        "            описывающий слои нейронной сети. \n",
        "            В конец необходимо добавить Softmax.\n",
        "        epochs : int\n",
        "            Количество эпох обученияю\n",
        "        alpha : float\n",
        "            Cкорость обучения.\n",
        "        \"\"\"\n",
        "        self.modules = modules\n",
        "        self.epochs = epochs\n",
        "        self.alpha = alpha\n",
        "            \n",
        "    def fit(self, X: np.ndarray, y: np.ndarray, batch_size=32) -> NoReturn:\n",
        "        \"\"\"\n",
        "        Обучает нейронную сеть заданное число эпох. \n",
        "        В каждой эпохе необходимо использовать cross-entropy loss для обучения, \n",
        "        а так же производить обновления не по одному элементу, а используя батчи.\n",
        "\n",
        "        Parameters\n",
        "        ----------\n",
        "        X : np.ndarray\n",
        "            Данные для обучения.\n",
        "        y : np.ndarray\n",
        "            Вектор меток классов для данных.\n",
        "        batch_size : int\n",
        "            Размер батча.\n",
        "        \"\"\"\n",
        "        classes = np.max(y) + 1\n",
        "        num_batches = len(X) // batch_size + (len(X) % batch_size != 0)\n",
        "        X_batches = np.array_split(X, num_batches)\n",
        "        y_batches = np.array_split(y, num_batches)\n",
        "        for epoch in range(self.epochs):\n",
        "            for X, y in zip(X_batches, y_batches):\n",
        "                inputs = X\n",
        "                \n",
        "                for layer in self.modules:\n",
        "                    inputs = layer.forward(inputs)\n",
        "                \n",
        "                softmax = Softmax()\n",
        "                _ = softmax.forward(inputs)\n",
        "                \n",
        "                inputs = softmax.backward(one_hot_encode(y, classes))\n",
        "                for i in range(len(self.modules) - 1, -1, -1):\n",
        "                    layer = self.modules[i]\n",
        "                    inputs = layer.backward(inputs)\n",
        "                    layer.update(self.alpha)\n",
        "                \n",
        "                \n",
        "        \n",
        "    def predict_proba(self, X: np.ndarray) -> np.ndarray:\n",
        "        \"\"\"\n",
        "        Предсказывает вероятности классов для элементов X.\n",
        "\n",
        "        Parameters\n",
        "        ----------\n",
        "        X : np.ndarray\n",
        "            Данные для предсказания.\n",
        "        \n",
        "        Return\n",
        "        ------\n",
        "        np.ndarray\n",
        "            Предсказанные вероятности классов для всех элементов X.\n",
        "            Размерность (X.shape[0], n_classes)\n",
        "        \n",
        "        \"\"\"\n",
        "        inputs = X\n",
        "        for layer in self.modules:\n",
        "            inputs = layer.forward(inputs)\n",
        "        return inputs\n",
        "        \n",
        "    def predict(self, X) -> np.ndarray:\n",
        "        \"\"\"\n",
        "        Предсказывает метки классов для элементов X.\n",
        "\n",
        "        Parameters\n",
        "        ----------\n",
        "        X : np.ndarray\n",
        "            Данные для предсказания.\n",
        "        \n",
        "        Return\n",
        "        ------\n",
        "        np.ndarray\n",
        "            Вектор предсказанных классов\n",
        "        \n",
        "        \"\"\"\n",
        "        p = self.predict_proba(X)\n",
        "        return np.argmax(p, axis=1)"
      ],
      "execution_count": null,
      "outputs": []
    },
    {
      "cell_type": "code",
      "metadata": {
        "id": "onDymYQXQuvN",
        "cellId": "4c17ba12-1556-48c4-b312-d5cdd2eaf8d7",
        "trusted": true,
        "colab": {
          "base_uri": "https://localhost:8080/"
        },
        "outputId": "7273d999-4333-4ced-ca74-25ef0d9e904e"
      },
      "source": [
        "p = MLPClassifier([\n",
        "    Linear(4, 3),\n",
        "    ReLU(),\n",
        "    Linear(3, 2)\n",
        "])\n",
        "\n",
        "X = np.random.randn(50, 4)\n",
        "y = [(0 if x[0] > x[2]**2 or x[3]**3 > 0.5 else 1) for x in X]\n",
        "p.fit(X, y)"
      ],
      "execution_count": null,
      "outputs": [
        {
          "output_type": "stream",
          "name": "stderr",
          "text": [
            "/usr/local/lib/python3.7/dist-packages/ipykernel_launcher.py:65: DeprecationWarning: Calling np.sum(generator) is deprecated, and in the future will give a different result. Use np.sum(np.fromiter(generator)) or the python sum builtin instead.\n"
          ]
        }
      ]
    },
    {
      "cell_type": "markdown",
      "metadata": {
        "cellId": "c4a0b9ff-05d7-4320-83ef-88fea1fce6c7",
        "id": "3C1EIsDqQuvQ"
      },
      "source": [
        "### Задание 3 (2 балла)\n",
        "Протестируем наше решение на синтетических данных. Необходимо подобрать гиперпараметры, при которых качество полученных классификаторов будет достаточным.\n",
        "\n",
        "#### Оценка\n",
        "Accuracy на первом датасете больше 0.85 - +1 балл\n",
        "\n",
        "Accuracy на втором датасете больше 0.85 - +1 балл"
      ]
    },
    {
      "cell_type": "code",
      "metadata": {
        "id": "d5UAgXTcQuvQ",
        "cellId": "ba7575e1-8915-4e59-9b42-a62780f049bb",
        "trusted": true,
        "colab": {
          "base_uri": "https://localhost:8080/"
        },
        "outputId": "01124080-c005-47e6-ecc3-a662dc96c61e"
      },
      "source": [
        "X, y = make_moons(400, noise=0.075)\n",
        "\n",
        "X_test, y_test = make_moons(400, noise=0.075)\n",
        "\n",
        "best_acc = 0\n",
        "for _ in range(25):\n",
        "    p = MLPClassifier(modules=[\n",
        "        Linear(X.shape[1], 64),\n",
        "        ReLU(),\n",
        "        Linear(64, 2)\n",
        "    ], epochs=100)\n",
        "\n",
        "    p.fit(X, y)\n",
        "    score = np.mean(p.predict(X_test) == y_test)\n",
        "    print(score)\n",
        "    best_acc = max(score, best_acc)\n",
        "print(\"Accuracy\", best_acc)"
      ],
      "execution_count": null,
      "outputs": [
        {
          "output_type": "stream",
          "name": "stderr",
          "text": [
            "/usr/local/lib/python3.7/dist-packages/ipykernel_launcher.py:65: DeprecationWarning: Calling np.sum(generator) is deprecated, and in the future will give a different result. Use np.sum(np.fromiter(generator)) or the python sum builtin instead.\n"
          ]
        },
        {
          "output_type": "stream",
          "name": "stdout",
          "text": [
            "1.0\n",
            "1.0\n",
            "1.0\n",
            "1.0\n",
            "1.0\n",
            "1.0\n",
            "1.0\n",
            "1.0\n",
            "1.0\n",
            "1.0\n",
            "1.0\n",
            "1.0\n",
            "1.0\n",
            "1.0\n",
            "1.0\n",
            "1.0\n",
            "1.0\n",
            "1.0\n",
            "1.0\n",
            "1.0\n",
            "1.0\n",
            "1.0\n",
            "1.0\n",
            "1.0\n",
            "1.0\n",
            "Accuracy 1.0\n"
          ]
        }
      ]
    },
    {
      "cell_type": "code",
      "metadata": {
        "id": "MMDJM4qFQuvT",
        "cellId": "9ded5b35-6b41-4a84-992d-ec0535376326",
        "trusted": true,
        "colab": {
          "base_uri": "https://localhost:8080/"
        },
        "outputId": "a3473e91-55a1-40f2-f852-2c74b654c552"
      },
      "source": [
        "X, y = make_blobs(400, 2, centers=[[0, 0], [2.5, 2.5], [-2.5, 3]])\n",
        "X_test, y_test = make_blobs(400, 2, centers=[[0, 0], [2.5, 2.5], [-2.5, 3]])\n",
        "best_acc = 0\n",
        "for _ in range(25):\n",
        "    p = MLPClassifier(modules=[\n",
        "        Linear(X.shape[1], 64),\n",
        "        ReLU(),\n",
        "        Linear(64, 64),\n",
        "        ReLU(),\n",
        "        Linear(64, 3)\n",
        "    ], epochs=300)\n",
        "\n",
        "    p.fit(X, y)\n",
        "    score = np.mean(p.predict(X_test) == y_test)\n",
        "    print(score)\n",
        "    best_acc = max(score, best_acc)\n",
        "print(\"Accuracy\", best_acc)"
      ],
      "execution_count": null,
      "outputs": [
        {
          "output_type": "stream",
          "name": "stderr",
          "text": [
            "/usr/local/lib/python3.7/dist-packages/ipykernel_launcher.py:65: DeprecationWarning: Calling np.sum(generator) is deprecated, and in the future will give a different result. Use np.sum(np.fromiter(generator)) or the python sum builtin instead.\n"
          ]
        },
        {
          "output_type": "stream",
          "name": "stdout",
          "text": [
            "0.95\n",
            "0.9425\n",
            "0.9275\n",
            "0.9475\n",
            "0.935\n",
            "0.95\n",
            "0.9375\n",
            "0.9425\n",
            "0.9475\n",
            "0.9425\n",
            "0.9425\n",
            "0.93\n",
            "0.95\n",
            "0.9425\n",
            "0.94\n",
            "0.9425\n",
            "0.95\n",
            "0.9425\n",
            "0.9475\n",
            "0.9425\n",
            "0.95\n",
            "0.95\n",
            "0.94\n",
            "0.9425\n",
            "0.94\n",
            "Accuracy 0.95\n"
          ]
        }
      ]
    },
    {
      "cell_type": "markdown",
      "metadata": {
        "cellId": "1039be6a-5ee0-4c45-9718-364fa07fea2c",
        "id": "nPbVTFnMQuvW"
      },
      "source": [
        "## PyTorch\n",
        "\n",
        "Для выполнения следующего задания понадобится PyTorch. [Инструкция по установке](https://pytorch.org/get-started/locally/)\n",
        "\n",
        "Если у вас нет GPU, то можно использовать [Google Colab](https://colab.research.google.com/)"
      ]
    },
    {
      "cell_type": "code",
      "metadata": {
        "id": "tV0mJLu-QuvX",
        "cellId": "20202761-1a3c-430a-b4ac-ec1242c0e0a6",
        "trusted": true
      },
      "source": [
        "from torchvision import datasets, transforms\n",
        "from torch.utils.data import DataLoader\n",
        "import torch\n",
        "from tqdm import tqdm\n",
        "from torch import nn\n",
        "import torch.nn.functional as F\n",
        "import matplotlib.pyplot as plt"
      ],
      "execution_count": null,
      "outputs": []
    },
    {
      "cell_type": "code",
      "metadata": {
        "id": "VUC_QqpAQuva",
        "cellId": "1f491eb8-f0a6-4840-a6ab-d13e51c9876f",
        "trusted": true,
        "colab": {
          "base_uri": "https://localhost:8080/",
          "height": 99,
          "referenced_widgets": [
            "501c3791eacc4d37bf2fe4fc2fb74772",
            "2505bbf1000f48d0807cbb34354acc28",
            "bc53365c3c2d44f98e7c2a3378b24e2d",
            "f61a2dd60b52468bbc87f315daa6e874",
            "2679d2bb64024da9bb0046d11ab1454f",
            "4fb8e7bcc090442b8290b69d4c571706",
            "4aadd420c9524d08a22f71a796b7e9a7",
            "e7f76f43df364d2aadbf043462f0673b",
            "62ee933ba80a46f1bb9883e969d0cea8",
            "c13e7af22d8f41e493603bc9977c3302",
            "8bcc2ee2660b4fabb67fa92d47fa0904"
          ]
        },
        "outputId": "518d4dd5-0474-470b-ca55-410526ceb696"
      },
      "source": [
        "device = torch.device(\"cuda\" if torch.cuda.is_available() else \"cpu\")\n",
        "\n",
        "t = transforms.ToTensor()\n",
        "\n",
        "cifar_train = datasets.CIFAR10(\"datasets/cifar10\", download=True, train=True, transform=t)\n",
        "train_loader = DataLoader(cifar_train, batch_size=1024, shuffle=True, pin_memory=torch.cuda.is_available())\n",
        "cifar_test = datasets.CIFAR10(\"datasets/cifar10\", download=True, train=False, transform=t)\n",
        "test_loader = DataLoader(cifar_test, batch_size=1024, shuffle=False, pin_memory=torch.cuda.is_available())"
      ],
      "execution_count": null,
      "outputs": [
        {
          "output_type": "stream",
          "name": "stdout",
          "text": [
            "Downloading https://www.cs.toronto.edu/~kriz/cifar-10-python.tar.gz to datasets/cifar10/cifar-10-python.tar.gz\n"
          ]
        },
        {
          "output_type": "display_data",
          "data": {
            "application/vnd.jupyter.widget-view+json": {
              "model_id": "501c3791eacc4d37bf2fe4fc2fb74772",
              "version_minor": 0,
              "version_major": 2
            },
            "text/plain": [
              "  0%|          | 0/170498071 [00:00<?, ?it/s]"
            ]
          },
          "metadata": {}
        },
        {
          "output_type": "stream",
          "name": "stdout",
          "text": [
            "Extracting datasets/cifar10/cifar-10-python.tar.gz to datasets/cifar10\n",
            "Files already downloaded and verified\n"
          ]
        }
      ]
    },
    {
      "cell_type": "markdown",
      "metadata": {
        "cellId": "01143fd5-ad11-4bd8-b0af-336230844f64",
        "id": "rGmpjcFfQuvd"
      },
      "source": [
        "### Задание 4 (3 балла)\n",
        "А теперь поработам с настоящими нейронными сетями и настоящими данными. Необходимо реализовать сверточную нейронную сеть, которая будет классифицировать изображения из датасета CIFAR10. Имплементируйте класс `Model` и функцию `calculate_loss`. \n",
        "\n",
        "Обратите внимание, что `Model` должна считать в конце `softmax`, т.к. мы решаем задачу классификации. Соответствеено, функция `calculate_loss` считает cross-entropy.\n",
        "\n",
        "Для успешного выполнения задания необходимо, чтобы `accuracy`, `mean precision` и `mean recall` были больше 0.5\n",
        "\n",
        "__Можно пользоваться всем содержимым библиотеки PyTorch.__"
      ]
    },
    {
      "cell_type": "code",
      "metadata": {
        "cellId": "224b9e9a-53be-4f75-bb1f-0644f101b9f1",
        "id": "5sRmTKwKQuve"
      },
      "source": [
        "class Model(nn.Module):\n",
        "    def __init__(self):\n",
        "        super().__init__()\n",
        "        self.network = nn.Sequential(\n",
        "            nn.Conv2d(3, 6, 5),\n",
        "            nn.ReLU(),\n",
        "            nn.MaxPool2d(2, 2),\n",
        "            nn.Conv2d(6, 16, 5),\n",
        "            nn.ReLU(),\n",
        "            nn.MaxPool2d(2, 2),\n",
        "            nn.Flatten(),\n",
        "            nn.Linear(16 * 5 * 5, 120),\n",
        "            nn.ReLU(),\n",
        "            nn.Linear(120, 84),\n",
        "            nn.ReLU(),\n",
        "            nn.Linear(84, 10),\n",
        "        )\n",
        "        \n",
        "    def forward(self, x: torch.Tensor) -> torch.Tensor:\n",
        "        return self.network(x)\n",
        "        \n",
        "def calculate_loss(X: torch.Tensor, y: torch.Tensor, model: Model):\n",
        "    \"\"\"\n",
        "    Cчитает cross-entropy.\n",
        "\n",
        "    Parameters\n",
        "    ----------\n",
        "    X : torch.Tensor\n",
        "        Данные для обучения.\n",
        "    y : torch.Tensor\n",
        "        Метки классов.\n",
        "    model : Model\n",
        "        Модель, которую будем обучать.\n",
        "\n",
        "    \"\"\"\n",
        "    loss = nn.CrossEntropyLoss()\n",
        "    yHat = model(X)\n",
        "    return loss(yHat, y)"
      ],
      "execution_count": null,
      "outputs": []
    },
    {
      "cell_type": "markdown",
      "metadata": {
        "cellId": "f8f988a2-4673-4d71-9b33-06b3f0aa422e",
        "id": "JAsLmkUqQuvh"
      },
      "source": [
        "Теперь обучим нашу модель. Для этого используем ранее созданные batch loader'ы."
      ]
    },
    {
      "cell_type": "code",
      "metadata": {
        "cellId": "46a415ec-6352-4e65-98f3-71ad8b5a8a83",
        "id": "k5G8iMCeQuvh"
      },
      "source": [
        "def train(model, epochs=100):\n",
        "    optimizer = torch.optim.Adam(model.parameters())\n",
        "    train_losses = []\n",
        "    test_losses = []\n",
        "    for i in range(epochs):\n",
        "        #Train\n",
        "        loss_mean = 0\n",
        "        elements = 0\n",
        "        for X, y in iter(train_loader):\n",
        "            X = X.to(device)\n",
        "            y = y.to(device)\n",
        "            loss = calculate_loss(X, y, model)\n",
        "            optimizer.zero_grad()\n",
        "            loss.backward()\n",
        "            optimizer.step()\n",
        "            loss_mean += loss.item() * len(X)\n",
        "            elements += len(X)\n",
        "        train_losses.append(loss_mean / elements)\n",
        "        #Test\n",
        "        loss_mean = 0 \n",
        "        elements = 0\n",
        "        for X, y in iter(test_loader):\n",
        "            X = X.to(device)\n",
        "            y = y.to(device)\n",
        "            loss = calculate_loss(X, y, model)\n",
        "            loss_mean += loss.item() * len(X)\n",
        "            elements += len(X)\n",
        "        test_losses.append(loss_mean / elements)\n",
        "        print(\"Epoch\", i, \"| Train loss\", train_losses[-1], \"| Test loss\", test_losses[-1])\n",
        "    return train_losses, test_losses"
      ],
      "execution_count": null,
      "outputs": []
    },
    {
      "cell_type": "code",
      "metadata": {
        "id": "vmD9eWJOQuvl",
        "scrolled": true,
        "cellId": "d4ff9cc5-7184-42a0-9340-bb35c9f9fae7",
        "colab": {
          "base_uri": "https://localhost:8080/"
        },
        "outputId": "b12db749-5ad6-46be-bc90-12a0649793b8"
      },
      "source": [
        "model = Model().to(device)\n",
        "train_l, test_l = train(model)"
      ],
      "execution_count": null,
      "outputs": [
        {
          "output_type": "stream",
          "name": "stdout",
          "text": [
            "Epoch 0 | Train loss 2.134930558013916 | Test loss 2.009758736038208\n",
            "Epoch 1 | Train loss 1.9530396775054932 | Test loss 1.8900282203674317\n",
            "Epoch 2 | Train loss 1.8148712935256959 | Test loss 1.7297256383895874\n",
            "Epoch 3 | Train loss 1.696571399383545 | Test loss 1.622336512184143\n",
            "Epoch 4 | Train loss 1.6093776390457153 | Test loss 1.6626122344970704\n",
            "Epoch 5 | Train loss 1.5671236862564086 | Test loss 1.557052208518982\n",
            "Epoch 6 | Train loss 1.5239636351013184 | Test loss 1.5219563924789428\n",
            "Epoch 7 | Train loss 1.498298783493042 | Test loss 1.4828897293090821\n",
            "Epoch 8 | Train loss 1.4698585722732544 | Test loss 1.4621591680526733\n",
            "Epoch 9 | Train loss 1.4502471673583985 | Test loss 1.4331833042144775\n",
            "Epoch 10 | Train loss 1.4302357403564454 | Test loss 1.4179516819000244\n",
            "Epoch 11 | Train loss 1.4121690789413452 | Test loss 1.3929890338897706\n",
            "Epoch 12 | Train loss 1.3943275731277467 | Test loss 1.3816762214660645\n",
            "Epoch 13 | Train loss 1.3769085646820067 | Test loss 1.392346973800659\n",
            "Epoch 14 | Train loss 1.3543958218002319 | Test loss 1.3557318269729615\n",
            "Epoch 15 | Train loss 1.341193833580017 | Test loss 1.3425294654846192\n",
            "Epoch 16 | Train loss 1.3297334619140626 | Test loss 1.339837092590332\n",
            "Epoch 17 | Train loss 1.3135167530059815 | Test loss 1.3418386001586915\n",
            "Epoch 18 | Train loss 1.3061893040847778 | Test loss 1.3053552526474\n",
            "Epoch 19 | Train loss 1.2803537069320678 | Test loss 1.2939245849609375\n",
            "Epoch 20 | Train loss 1.2714234565353393 | Test loss 1.3017057834625245\n",
            "Epoch 21 | Train loss 1.2646124320602417 | Test loss 1.2911198373794555\n",
            "Epoch 22 | Train loss 1.2636565310668946 | Test loss 1.2806952402114868\n",
            "Epoch 23 | Train loss 1.2428081247329712 | Test loss 1.2732165378570557\n",
            "Epoch 24 | Train loss 1.2370227913665772 | Test loss 1.2474920492172241\n",
            "Epoch 25 | Train loss 1.217012721939087 | Test loss 1.2409910005569458\n",
            "Epoch 26 | Train loss 1.2041656354141235 | Test loss 1.2369009803771973\n",
            "Epoch 27 | Train loss 1.19652673828125 | Test loss 1.241424652481079\n",
            "Epoch 28 | Train loss 1.1903297091293334 | Test loss 1.232429195022583\n",
            "Epoch 29 | Train loss 1.1807213189697265 | Test loss 1.218554186630249\n",
            "Epoch 30 | Train loss 1.172824662437439 | Test loss 1.2060796060562133\n",
            "Epoch 31 | Train loss 1.1594681454849243 | Test loss 1.2031049844741821\n",
            "Epoch 32 | Train loss 1.1538144428253174 | Test loss 1.2047466560363769\n",
            "Epoch 33 | Train loss 1.153842820930481 | Test loss 1.1849368385314942\n",
            "Epoch 34 | Train loss 1.1353735666275024 | Test loss 1.1857160982131958\n",
            "Epoch 35 | Train loss 1.1302371844100951 | Test loss 1.1919630290985108\n",
            "Epoch 36 | Train loss 1.1195274349975586 | Test loss 1.177244584274292\n",
            "Epoch 37 | Train loss 1.1172191809844971 | Test loss 1.1777814937591553\n",
            "Epoch 38 | Train loss 1.117871941871643 | Test loss 1.1966424770355224\n",
            "Epoch 39 | Train loss 1.1000338166427612 | Test loss 1.1597049240112305\n",
            "Epoch 40 | Train loss 1.0969793097305298 | Test loss 1.1779838745117188\n",
            "Epoch 41 | Train loss 1.0861443857574462 | Test loss 1.146987765312195\n",
            "Epoch 42 | Train loss 1.0787861629104614 | Test loss 1.1691980842590333\n",
            "Epoch 43 | Train loss 1.0795303148651123 | Test loss 1.15482542552948\n",
            "Epoch 44 | Train loss 1.065349104347229 | Test loss 1.175313759994507\n",
            "Epoch 45 | Train loss 1.0639405473709107 | Test loss 1.1403324274063111\n",
            "Epoch 46 | Train loss 1.055784150314331 | Test loss 1.1342060005187988\n",
            "Epoch 47 | Train loss 1.0484082553482055 | Test loss 1.148825167655945\n",
            "Epoch 48 | Train loss 1.0419736418151855 | Test loss 1.1221920555114746\n",
            "Epoch 49 | Train loss 1.032393076057434 | Test loss 1.129205989074707\n",
            "Epoch 50 | Train loss 1.0285491977310182 | Test loss 1.11502352142334\n",
            "Epoch 51 | Train loss 1.022972057647705 | Test loss 1.1361539148330688\n",
            "Epoch 52 | Train loss 1.0179258541297913 | Test loss 1.1122095293045045\n",
            "Epoch 53 | Train loss 1.0187532955169678 | Test loss 1.1043416345596313\n",
            "Epoch 54 | Train loss 1.0068626880455016 | Test loss 1.134865844154358\n",
            "Epoch 55 | Train loss 0.9984729837608337 | Test loss 1.0996216241836547\n",
            "Epoch 56 | Train loss 0.9930661635017395 | Test loss 1.1224476760864257\n",
            "Epoch 57 | Train loss 0.995181863193512 | Test loss 1.1083933469772338\n",
            "Epoch 58 | Train loss 0.9869253928947449 | Test loss 1.11005666179657\n",
            "Epoch 59 | Train loss 0.9836110812568665 | Test loss 1.0971281467437743\n",
            "Epoch 60 | Train loss 0.9717643501663208 | Test loss 1.0939769836425781\n",
            "Epoch 61 | Train loss 0.9693158057403565 | Test loss 1.1239374784469605\n",
            "Epoch 62 | Train loss 0.9720318501281738 | Test loss 1.091064920425415\n",
            "Epoch 63 | Train loss 0.9618351002502441 | Test loss 1.0812519758224488\n",
            "Epoch 64 | Train loss 0.9564038354110718 | Test loss 1.0749611284255982\n",
            "Epoch 65 | Train loss 0.945782520275116 | Test loss 1.0884288614273072\n",
            "Epoch 66 | Train loss 0.9525123024559021 | Test loss 1.0795351541519165\n",
            "Epoch 67 | Train loss 0.9432006175804138 | Test loss 1.0867911031723023\n",
            "Epoch 68 | Train loss 0.9429469616699219 | Test loss 1.0782734090805053\n",
            "Epoch 69 | Train loss 0.93127019739151 | Test loss 1.0700304555892943\n",
            "Epoch 70 | Train loss 0.9316045322036743 | Test loss 1.0810016452789306\n",
            "Epoch 71 | Train loss 0.9256710429000854 | Test loss 1.0663476751327514\n",
            "Epoch 72 | Train loss 0.919534005203247 | Test loss 1.0742362033843995\n",
            "Epoch 73 | Train loss 0.9094453287506103 | Test loss 1.0651765073776245\n",
            "Epoch 74 | Train loss 0.9120618460845947 | Test loss 1.0687103399276734\n",
            "Epoch 75 | Train loss 0.9084576994132996 | Test loss 1.0749339372634887\n",
            "Epoch 76 | Train loss 0.9015747871208191 | Test loss 1.0590022691726684\n",
            "Epoch 77 | Train loss 0.8989499308586121 | Test loss 1.0906537841796875\n",
            "Epoch 78 | Train loss 0.8942926900672913 | Test loss 1.0639784467697144\n",
            "Epoch 79 | Train loss 0.8918313349723815 | Test loss 1.0538253074645996\n",
            "Epoch 80 | Train loss 0.8865013789367676 | Test loss 1.0806814012527466\n",
            "Epoch 81 | Train loss 0.8896501986312866 | Test loss 1.0606247945785523\n",
            "Epoch 82 | Train loss 0.877231038684845 | Test loss 1.0579732959747314\n",
            "Epoch 83 | Train loss 0.8725606102752685 | Test loss 1.0591640762329102\n",
            "Epoch 84 | Train loss 0.8757776443672181 | Test loss 1.0534403116226196\n",
            "Epoch 85 | Train loss 0.8596025721931457 | Test loss 1.0618123924255372\n",
            "Epoch 86 | Train loss 0.8599698337173461 | Test loss 1.0594559637069703\n",
            "Epoch 87 | Train loss 0.8605538341903687 | Test loss 1.045820837020874\n",
            "Epoch 88 | Train loss 0.8584414561843872 | Test loss 1.0513899879455566\n",
            "Epoch 89 | Train loss 0.8536409962654113 | Test loss 1.0505397161483765\n",
            "Epoch 90 | Train loss 0.8559451559448242 | Test loss 1.066399404144287\n",
            "Epoch 91 | Train loss 0.8492739526367188 | Test loss 1.047821982383728\n",
            "Epoch 92 | Train loss 0.8424195162391662 | Test loss 1.0682851289749145\n",
            "Epoch 93 | Train loss 0.8406240613555909 | Test loss 1.0466386569976807\n",
            "Epoch 94 | Train loss 0.8317724177360535 | Test loss 1.0449946866989135\n",
            "Epoch 95 | Train loss 0.8346425810050965 | Test loss 1.07708460521698\n",
            "Epoch 96 | Train loss 0.8298954200935363 | Test loss 1.052708335494995\n",
            "Epoch 97 | Train loss 0.819250465221405 | Test loss 1.0556067565917968\n",
            "Epoch 98 | Train loss 0.8255659901046752 | Test loss 1.0683151960372925\n",
            "Epoch 99 | Train loss 0.8169337390327454 | Test loss 1.0521901933670044\n"
          ]
        }
      ]
    },
    {
      "cell_type": "markdown",
      "metadata": {
        "cellId": "9e02b52e-ef10-4589-a5f8-39423601a870",
        "id": "OJNAuHjNQuvn"
      },
      "source": [
        "Построим график функции потерь"
      ]
    },
    {
      "cell_type": "code",
      "metadata": {
        "cellId": "c340a14a-e42b-438a-a2bd-75d4ae554395",
        "id": "F6OEGqriQuvo",
        "colab": {
          "base_uri": "https://localhost:8080/",
          "height": 441
        },
        "outputId": "901cbbed-0bee-49dc-92b9-617639e65dba"
      },
      "source": [
        "plt.figure(figsize=(12, 6))\n",
        "plt.plot(range(len(train_l)), train_l, label=\"train\")\n",
        "plt.plot(range(len(test_l)), test_l, label=\"test\")\n",
        "plt.xlabel(\"Epoch\")\n",
        "plt.ylabel(\"Loss\")\n",
        "plt.legend()\n",
        "plt.tight_layout()\n",
        "plt.show()"
      ],
      "execution_count": null,
      "outputs": [
        {
          "output_type": "display_data",
          "data": {
            "image/png": "[encoded data removed]",
            "text/plain": [
              "<Figure size 864x432 with 1 Axes>"
            ]
          },
          "metadata": {
            "needs_background": "light"
          }
        }
      ]
    },
    {
      "cell_type": "markdown",
      "metadata": {
        "cellId": "52dab70c-d767-433f-a4aa-4f9fc6b0da2f",
        "id": "miUxg0bDQuvs"
      },
      "source": [
        "И, наконец, посчитаем метрики"
      ]
    },
    {
      "cell_type": "code",
      "metadata": {
        "cellId": "af185e47-eef6-4d1d-90c9-ffca2e7c1b5a",
        "id": "UXSOJFI8Quvt",
        "colab": {
          "base_uri": "https://localhost:8080/"
        },
        "outputId": "3b0df91d-cf70-4bce-e7ea-0573938ec064"
      },
      "source": [
        "true_positive = np.zeros(10)\n",
        "true_negative = np.zeros(10)\n",
        "false_positive = np.zeros(10)\n",
        "false_negative = np.zeros(10)\n",
        "accuracy = 0\n",
        "ctn = 0\n",
        "for X, y in iter(test_loader):\n",
        "    X = X.to(device)\n",
        "    y = y.to(device)\n",
        "    with torch.no_grad():\n",
        "        y_pred = model(X).max(dim=1)[1]\n",
        "    for i in range(10):\n",
        "        for pred, real in zip(y_pred, y):\n",
        "            if real == i:\n",
        "                if pred == real:\n",
        "                    true_positive[i] += 1\n",
        "                else:\n",
        "                    false_negative[i] += 1\n",
        "            else:\n",
        "                if pred == i:\n",
        "                    false_positive[i] += 1\n",
        "                else:\n",
        "                    true_negative[i] += 1\n",
        "            \n",
        "    accuracy += torch.sum(y_pred == y).item()\n",
        "    ctn += len(y)\n",
        "print(\"Overall accuracy\", accuracy / ctn)\n",
        "print(\"Precision\", true_positive / (true_positive + false_positive))\n",
        "print(\"Recall\", true_positive / (true_positive + false_negative))\n",
        "print(\"Mean Precision\", np.mean(true_positive / (true_positive + false_positive)))\n",
        "print(\"Mean Recall\", np.mean(true_positive / (true_positive + false_negative)))"
      ],
      "execution_count": null,
      "outputs": [
        {
          "output_type": "stream",
          "name": "stdout",
          "text": [
            "Overall accuracy 0.6406\n",
            "Precision [0.6927593  0.76906318 0.51865332 0.45023256 0.64861295 0.5817757\n",
            " 0.67570009 0.64995524 0.74594078 0.69261477]\n",
            "Recall [0.708 0.706 0.57  0.484 0.491 0.498 0.748 0.726 0.781 0.694]\n",
            "Mean Precision 0.6425307883666951\n",
            "Mean Recall 0.6406\n"
          ]
        }
      ]
    },
    {
      "cell_type": "code",
      "metadata": {
        "cellId": "e741cfd0-25fc-44f9-b730-0b896610caef",
        "id": "EKA-j4rIQuvv"
      },
      "source": [],
      "execution_count": null,
      "outputs": []
    }
  ]
}